{
    "cells": [
        {
            "metadata": {},
            "cell_type": "code",
            "source": "!pip install yfinance==0.1.67\n!pip install pandas==1.3.3",
            "execution_count": 1,
            "outputs": [
                {
                    "output_type": "stream",
                    "text": "Collecting yfinance==0.1.67\n  Downloading yfinance-0.1.67-py2.py3-none-any.whl (25 kB)\nRequirement already satisfied: requests>=2.20 in /opt/conda/envs/Python-3.9/lib/python3.9/site-packages (from yfinance==0.1.67) (2.26.0)\nRequirement already satisfied: numpy>=1.15 in /opt/conda/envs/Python-3.9/lib/python3.9/site-packages (from yfinance==0.1.67) (1.20.3)\nCollecting multitasking>=0.0.7\n  Downloading multitasking-0.0.10.tar.gz (8.2 kB)\nRequirement already satisfied: lxml>=4.5.1 in /opt/conda/envs/Python-3.9/lib/python3.9/site-packages (from yfinance==0.1.67) (4.7.1)\nRequirement already satisfied: pandas>=0.24 in /opt/conda/envs/Python-3.9/lib/python3.9/site-packages (from yfinance==0.1.67) (1.3.4)\nRequirement already satisfied: python-dateutil>=2.7.3 in /opt/conda/envs/Python-3.9/lib/python3.9/site-packages (from pandas>=0.24->yfinance==0.1.67) (2.8.2)\nRequirement already satisfied: pytz>=2017.3 in /opt/conda/envs/Python-3.9/lib/python3.9/site-packages (from pandas>=0.24->yfinance==0.1.67) (2021.3)\nRequirement already satisfied: six>=1.5 in /opt/conda/envs/Python-3.9/lib/python3.9/site-packages (from python-dateutil>=2.7.3->pandas>=0.24->yfinance==0.1.67) (1.15.0)\nRequirement already satisfied: idna<4,>=2.5 in /opt/conda/envs/Python-3.9/lib/python3.9/site-packages (from requests>=2.20->yfinance==0.1.67) (3.3)\nRequirement already satisfied: certifi>=2017.4.17 in /opt/conda/envs/Python-3.9/lib/python3.9/site-packages (from requests>=2.20->yfinance==0.1.67) (2021.10.8)\nRequirement already satisfied: urllib3<1.27,>=1.21.1 in /opt/conda/envs/Python-3.9/lib/python3.9/site-packages (from requests>=2.20->yfinance==0.1.67) (1.26.7)\nRequirement already satisfied: charset-normalizer~=2.0.0 in /opt/conda/envs/Python-3.9/lib/python3.9/site-packages (from requests>=2.20->yfinance==0.1.67) (2.0.4)\nBuilding wheels for collected packages: multitasking\n  Building wheel for multitasking (setup.py) ... \u001b[?25ldone\n\u001b[?25h  Created wheel for multitasking: filename=multitasking-0.0.10-py3-none-any.whl size=8500 sha256=49eb53c14c0824cbc9d135bbb53ab14de6193cb1a2231307df91d74345252822\n  Stored in directory: /tmp/wsuser/.cache/pip/wheels/f2/b5/2c/59ba95dcf854e542944c75fe3da584e4e3833b319735a0546c\nSuccessfully built multitasking\nInstalling collected packages: multitasking, yfinance\nSuccessfully installed multitasking-0.0.10 yfinance-0.1.67\nCollecting pandas==1.3.3\n  Downloading pandas-1.3.3-cp39-cp39-manylinux_2_17_x86_64.manylinux2014_x86_64.whl (11.5 MB)\n\u001b[K     |\u2588\u2588\u2588\u2588\u2588\u2588\u2588\u2588\u2588\u2588\u2588\u2588\u2588\u2588\u2588\u2588\u2588\u2588\u2588\u2588\u2588\u2588\u2588\u2588\u2588\u2588\u2588\u2588\u2588\u2588\u2588\u2588| 11.5 MB 2.7 MB/s eta 0:00:01\n\u001b[?25hRequirement already satisfied: python-dateutil>=2.7.3 in /opt/conda/envs/Python-3.9/lib/python3.9/site-packages (from pandas==1.3.3) (2.8.2)\nRequirement already satisfied: pytz>=2017.3 in /opt/conda/envs/Python-3.9/lib/python3.9/site-packages (from pandas==1.3.3) (2021.3)\nRequirement already satisfied: numpy>=1.17.3 in /opt/conda/envs/Python-3.9/lib/python3.9/site-packages (from pandas==1.3.3) (1.20.3)\nRequirement already satisfied: six>=1.5 in /opt/conda/envs/Python-3.9/lib/python3.9/site-packages (from python-dateutil>=2.7.3->pandas==1.3.3) (1.15.0)\nInstalling collected packages: pandas\n  Attempting uninstall: pandas\n    Found existing installation: pandas 1.3.4\n    Uninstalling pandas-1.3.4:\n      Successfully uninstalled pandas-1.3.4\nSuccessfully installed pandas-1.3.3\n",
                    "name": "stdout"
                }
            ]
        },
        {
            "metadata": {},
            "cell_type": "code",
            "source": "import yfinance as yf\nimport pandas as pd",
            "execution_count": 2,
            "outputs": []
        },
        {
            "metadata": {},
            "cell_type": "markdown",
            "source": "##### Using the yfinance Library to Extract Stock Data\n\nUsing the Ticker module we can create an object that will allow us to access functions to extract data. To do this we need to provide the ticker symbol for the stock, here The stock is Tesla and its ticker symbol is TSLA."
        },
        {
            "metadata": {},
            "cell_type": "code",
            "source": "tesla=yf.Ticker(\"TSLA\")",
            "execution_count": 3,
            "outputs": []
        },
        {
            "metadata": {},
            "cell_type": "markdown",
            "source": "##### Stock Info\n\nUsing the attribute info we can extract information about the stock as a Python dictionary."
        },
        {
            "metadata": {},
            "cell_type": "code",
            "source": "tesla_info=tesla.info\ntesla_info",
            "execution_count": 4,
            "outputs": [
                {
                    "output_type": "execute_result",
                    "execution_count": 4,
                    "data": {
                        "text/plain": "{'zip': '78725',\n 'sector': 'Consumer Cyclical',\n 'fullTimeEmployees': 99290,\n 'longBusinessSummary': 'Tesla, Inc. designs, develops, manufactures, leases, and sells electric vehicles, and energy generation and storage systems in the United States, China, and internationally. The company operates in two segments, Automotive, and Energy Generation and Storage. The Automotive segment offers electric vehicles, as well as sells automotive regulatory credits. It provides sedans and sport utility vehicles through direct and used vehicle sales, a network of Tesla Superchargers, and in-app upgrades; and purchase financing and leasing services. This segment is also involved in the provision of non-warranty after-sales vehicle services, sale of used vehicles, retail merchandise, and vehicle insurance, as well as sale of products to third party customers; services for electric vehicles through its company-owned service locations, and Tesla mobile service technicians; and vehicle limited warranties and extended service plans. The Energy Generation and Storage segment engages in the design, manufacture, installation, sale, and leasing of solar energy generation and energy storage products, and related services to residential, commercial, and industrial customers and utilities through its website, stores, and galleries, as well as through a network of channel partners. This segment also offers service and repairs to its energy product customers, including under warranty; and various financing options to its solar customers. The company was formerly known as Tesla Motors, Inc. and changed its name to Tesla, Inc. in February 2017. Tesla, Inc. was incorporated in 2003 and is headquartered in Austin, Texas.',\n 'city': 'Austin',\n 'phone': '(512) 516-8177',\n 'state': 'TX',\n 'country': 'United States',\n 'companyOfficers': [],\n 'website': 'https://www.tesla.com',\n 'maxAge': 1,\n 'address1': '13101 Tesla Road',\n 'industry': 'Auto Manufacturers',\n 'ebitdaMargins': 0.20424,\n 'profitMargins': 0.13505,\n 'grossMargins': 0.27096,\n 'operatingCashflow': 13850999808,\n 'revenueGrowth': 0.805,\n 'operatingMargins': 0.1549,\n 'ebitda': 12702000128,\n 'targetLowPrice': 67,\n 'recommendationKey': 'buy',\n 'grossProfits': 13606000000,\n 'freeCashflow': 7054624768,\n 'targetMedianPrice': 1088.5,\n 'currentPrice': 729.51,\n 'earningsGrowth': 6.315,\n 'currentRatio': 1.354,\n 'returnOnAssets': 0.10118,\n 'numberOfAnalystOpinions': 40,\n 'targetMeanPrice': 966.57,\n 'debtToEquity': 19.841,\n 'returnOnEquity': 0.28261,\n 'targetHighPrice': 1620,\n 'totalCash': 18012999680,\n 'totalDebt': 7024999936,\n 'totalRevenue': 62189998080,\n 'totalCashPerShare': 17.387,\n 'financialCurrency': 'USD',\n 'revenuePerShare': 61.927,\n 'quickRatio': 0.953,\n 'recommendationMean': 2.5,\n 'exchange': 'NMS',\n 'shortName': 'Tesla, Inc.',\n 'longName': 'Tesla, Inc.',\n 'exchangeTimezoneName': 'America/New_York',\n 'exchangeTimezoneShortName': 'EDT',\n 'isEsgPopulated': False,\n 'gmtOffSetMilliseconds': '-14400000',\n 'quoteType': 'EQUITY',\n 'symbol': 'TSLA',\n 'messageBoardId': 'finmb_27444752',\n 'market': 'us_market',\n 'annualHoldingsTurnover': None,\n 'enterpriseToRevenue': 14.35,\n 'beta3Year': None,\n 'enterpriseToEbitda': 70.261,\n '52WeekChange': 0.35166645,\n 'morningStarRiskRating': None,\n 'forwardEps': 15.88,\n 'revenueQuarterlyGrowth': None,\n 'sharesOutstanding': 1036009984,\n 'fundInceptionDate': None,\n 'annualReportExpenseRatio': None,\n 'totalAssets': None,\n 'bookValue': 32.901,\n 'sharesShort': 23732107,\n 'sharesPercentSharesOut': 0.0229,\n 'fundFamily': None,\n 'lastFiscalYearEnd': 1640908800,\n 'heldPercentInstitutions': 0.43094003,\n 'netIncomeToCommon': 8403999744,\n 'trailingEps': 7.4,\n 'lastDividendValue': None,\n 'SandP52WeekChange': -0.00651896,\n 'priceToBook': 22.172882,\n 'heldPercentInsiders': 0.17263001,\n 'nextFiscalYearEnd': 1703980800,\n 'yield': None,\n 'mostRecentQuarter': 1648684800,\n 'shortRatio': 0.96,\n 'sharesShortPreviousMonthDate': 1648684800,\n 'floatShares': 855381595,\n 'beta': 2.079411,\n 'enterpriseValue': 892448997376,\n 'priceHint': 2,\n 'threeYearAverageReturn': None,\n 'lastSplitDate': 1598832000,\n 'lastSplitFactor': '5:1',\n 'legalType': None,\n 'lastDividendDate': None,\n 'morningStarOverallRating': None,\n 'earningsQuarterlyGrowth': 6.575,\n 'priceToSalesTrailing12Months': 12.152752,\n 'dateShortInterest': 1651190400,\n 'pegRatio': 1.56,\n 'ytdReturn': None,\n 'forwardPE': 45.93892,\n 'lastCapGain': None,\n 'shortPercentOfFloat': 0.027999999,\n 'sharesShortPriorMonth': 25345219,\n 'impliedSharesOutstanding': 0,\n 'category': None,\n 'fiveYearAverageReturn': None,\n 'previousClose': 761.61,\n 'regularMarketOpen': 744.52,\n 'twoHundredDayAverage': 913.6131,\n 'trailingAnnualDividendYield': 0,\n 'payoutRatio': 0,\n 'volume24Hr': None,\n 'regularMarketDayHigh': 760.5,\n 'navPrice': None,\n 'averageDailyVolume10Day': 30594410,\n 'regularMarketPreviousClose': 761.61,\n 'fiftyDayAverage': 931.2104,\n 'trailingAnnualDividendRate': 0,\n 'open': 744.52,\n 'toCurrency': None,\n 'averageVolume10days': 30594410,\n 'expireDate': None,\n 'algorithm': None,\n 'dividendRate': None,\n 'exDividendDate': None,\n 'circulatingSupply': None,\n 'startDate': None,\n 'regularMarketDayLow': 727.65,\n 'currency': 'USD',\n 'trailingPE': 98.582436,\n 'regularMarketVolume': 11679515,\n 'lastMarket': None,\n 'maxSupply': None,\n 'openInterest': None,\n 'marketCap': 755779633152,\n 'volumeAllCurrencies': None,\n 'strikePrice': None,\n 'averageVolume': 26646138,\n 'dayLow': 727.65,\n 'ask': 738.23,\n 'askSize': 1100,\n 'volume': 11679515,\n 'fiftyTwoWeekHigh': 1243.49,\n 'fromCurrency': None,\n 'fiveYearAvgDividendYield': None,\n 'fiftyTwoWeekLow': 546.98,\n 'bid': 736.7,\n 'tradeable': False,\n 'dividendYield': None,\n 'bidSize': 800,\n 'dayHigh': 760.5,\n 'regularMarketPrice': 729.51,\n 'preMarketPrice': 745.12,\n 'logo_url': 'https://logo.clearbit.com/tesla.com'}"
                    },
                    "metadata": {}
                }
            ]
        },
        {
            "metadata": {},
            "cell_type": "markdown",
            "source": "We can get the 'country' using the key country"
        },
        {
            "metadata": {},
            "cell_type": "code",
            "source": "tesla_info['country']",
            "execution_count": 5,
            "outputs": [
                {
                    "output_type": "execute_result",
                    "execution_count": 5,
                    "data": {
                        "text/plain": "'United States'"
                    },
                    "metadata": {}
                }
            ]
        },
        {
            "metadata": {},
            "cell_type": "code",
            "source": "tesla_info[\"city\"]",
            "execution_count": 6,
            "outputs": [
                {
                    "output_type": "execute_result",
                    "execution_count": 6,
                    "data": {
                        "text/plain": "'Austin'"
                    },
                    "metadata": {}
                }
            ]
        },
        {
            "metadata": {},
            "cell_type": "code",
            "source": "tesla_info[\"industry\"]",
            "execution_count": 7,
            "outputs": [
                {
                    "output_type": "execute_result",
                    "execution_count": 7,
                    "data": {
                        "text/plain": "'Auto Manufacturers'"
                    },
                    "metadata": {}
                }
            ]
        },
        {
            "metadata": {},
            "cell_type": "markdown",
            "source": "##### Extracting Share Price\n\nA share is the single smallest part of a company's stock that you can buy, the prices of these shares fluctuate over time. Using the history() method we can get the share price of the stock over a certain period of time. Using the period parameter we can set how far back from the present to get data. The options for period are 1 day (1d), 5d, 1 month (1mo) , 3mo, 6mo, 1 year (1y), 2y, 5y, 10y, ytd, and max."
        },
        {
            "metadata": {},
            "cell_type": "code",
            "source": "tesla_data=tesla.history(periode=\"max\")",
            "execution_count": 8,
            "outputs": []
        },
        {
            "metadata": {},
            "cell_type": "markdown",
            "source": "The format that the data is returned in is a Pandas DataFrame. With the Date as the index the share Open, High, Low, Close, Volume, and Stock Splits are given for each day."
        },
        {
            "metadata": {},
            "cell_type": "code",
            "source": "tesla_data.head()",
            "execution_count": 9,
            "outputs": [
                {
                    "output_type": "execute_result",
                    "execution_count": 9,
                    "data": {
                        "text/plain": "                   Open         High         Low        Close    Volume  \\\nDate                                                                      \n2022-04-18   989.030029  1014.919983  973.409973  1004.289978  17238400   \n2022-04-19  1005.059998  1034.939941  995.330017  1028.150024  16615900   \n2022-04-20  1030.000000  1034.000000  975.250000   977.200012  23570400   \n2022-04-21  1074.729980  1092.219971  996.419983  1008.780029  35138800   \n2022-04-22  1014.909973  1034.849976  994.000000  1005.049988  23232200   \n\n            Dividends  Stock Splits  \nDate                                 \n2022-04-18          0             0  \n2022-04-19          0             0  \n2022-04-20          0             0  \n2022-04-21          0             0  \n2022-04-22          0             0  ",
                        "text/html": "<div>\n<style scoped>\n    .dataframe tbody tr th:only-of-type {\n        vertical-align: middle;\n    }\n\n    .dataframe tbody tr th {\n        vertical-align: top;\n    }\n\n    .dataframe thead th {\n        text-align: right;\n    }\n</style>\n<table border=\"1\" class=\"dataframe\">\n  <thead>\n    <tr style=\"text-align: right;\">\n      <th></th>\n      <th>Open</th>\n      <th>High</th>\n      <th>Low</th>\n      <th>Close</th>\n      <th>Volume</th>\n      <th>Dividends</th>\n      <th>Stock Splits</th>\n    </tr>\n    <tr>\n      <th>Date</th>\n      <th></th>\n      <th></th>\n      <th></th>\n      <th></th>\n      <th></th>\n      <th></th>\n      <th></th>\n    </tr>\n  </thead>\n  <tbody>\n    <tr>\n      <th>2022-04-18</th>\n      <td>989.030029</td>\n      <td>1014.919983</td>\n      <td>973.409973</td>\n      <td>1004.289978</td>\n      <td>17238400</td>\n      <td>0</td>\n      <td>0</td>\n    </tr>\n    <tr>\n      <th>2022-04-19</th>\n      <td>1005.059998</td>\n      <td>1034.939941</td>\n      <td>995.330017</td>\n      <td>1028.150024</td>\n      <td>16615900</td>\n      <td>0</td>\n      <td>0</td>\n    </tr>\n    <tr>\n      <th>2022-04-20</th>\n      <td>1030.000000</td>\n      <td>1034.000000</td>\n      <td>975.250000</td>\n      <td>977.200012</td>\n      <td>23570400</td>\n      <td>0</td>\n      <td>0</td>\n    </tr>\n    <tr>\n      <th>2022-04-21</th>\n      <td>1074.729980</td>\n      <td>1092.219971</td>\n      <td>996.419983</td>\n      <td>1008.780029</td>\n      <td>35138800</td>\n      <td>0</td>\n      <td>0</td>\n    </tr>\n    <tr>\n      <th>2022-04-22</th>\n      <td>1014.909973</td>\n      <td>1034.849976</td>\n      <td>994.000000</td>\n      <td>1005.049988</td>\n      <td>23232200</td>\n      <td>0</td>\n      <td>0</td>\n    </tr>\n  </tbody>\n</table>\n</div>"
                    },
                    "metadata": {}
                }
            ]
        },
        {
            "metadata": {},
            "cell_type": "code",
            "source": "tesla_data.tail()",
            "execution_count": 10,
            "outputs": [
                {
                    "output_type": "execute_result",
                    "execution_count": 10,
                    "data": {
                        "text/plain": "                  Open        High         Low       Close    Volume  \\\nDate                                                                   \n2022-05-12  701.000000  759.659973  680.000000  728.000000  46771000   \n2022-05-13  773.479980  787.349976  751.570007  769.590027  30651800   \n2022-05-16  767.159973  769.760010  719.090027  724.369995  28699500   \n2022-05-17  747.359985  764.479980  728.849976  761.609985  26691200   \n2022-05-18  744.520020  760.500000  726.070007  726.150024  11949458   \n\n            Dividends  Stock Splits  \nDate                                 \n2022-05-12          0             0  \n2022-05-13          0             0  \n2022-05-16          0             0  \n2022-05-17          0             0  \n2022-05-18          0             0  ",
                        "text/html": "<div>\n<style scoped>\n    .dataframe tbody tr th:only-of-type {\n        vertical-align: middle;\n    }\n\n    .dataframe tbody tr th {\n        vertical-align: top;\n    }\n\n    .dataframe thead th {\n        text-align: right;\n    }\n</style>\n<table border=\"1\" class=\"dataframe\">\n  <thead>\n    <tr style=\"text-align: right;\">\n      <th></th>\n      <th>Open</th>\n      <th>High</th>\n      <th>Low</th>\n      <th>Close</th>\n      <th>Volume</th>\n      <th>Dividends</th>\n      <th>Stock Splits</th>\n    </tr>\n    <tr>\n      <th>Date</th>\n      <th></th>\n      <th></th>\n      <th></th>\n      <th></th>\n      <th></th>\n      <th></th>\n      <th></th>\n    </tr>\n  </thead>\n  <tbody>\n    <tr>\n      <th>2022-05-12</th>\n      <td>701.000000</td>\n      <td>759.659973</td>\n      <td>680.000000</td>\n      <td>728.000000</td>\n      <td>46771000</td>\n      <td>0</td>\n      <td>0</td>\n    </tr>\n    <tr>\n      <th>2022-05-13</th>\n      <td>773.479980</td>\n      <td>787.349976</td>\n      <td>751.570007</td>\n      <td>769.590027</td>\n      <td>30651800</td>\n      <td>0</td>\n      <td>0</td>\n    </tr>\n    <tr>\n      <th>2022-05-16</th>\n      <td>767.159973</td>\n      <td>769.760010</td>\n      <td>719.090027</td>\n      <td>724.369995</td>\n      <td>28699500</td>\n      <td>0</td>\n      <td>0</td>\n    </tr>\n    <tr>\n      <th>2022-05-17</th>\n      <td>747.359985</td>\n      <td>764.479980</td>\n      <td>728.849976</td>\n      <td>761.609985</td>\n      <td>26691200</td>\n      <td>0</td>\n      <td>0</td>\n    </tr>\n    <tr>\n      <th>2022-05-18</th>\n      <td>744.520020</td>\n      <td>760.500000</td>\n      <td>726.070007</td>\n      <td>726.150024</td>\n      <td>11949458</td>\n      <td>0</td>\n      <td>0</td>\n    </tr>\n  </tbody>\n</table>\n</div>"
                    },
                    "metadata": {}
                }
            ]
        },
        {
            "metadata": {},
            "cell_type": "markdown",
            "source": "We can reset the index of the DataFrame with the reset_index function. We also set the inplace paramter to True so the change takes place to the DataFrame itself."
        },
        {
            "metadata": {},
            "cell_type": "code",
            "source": "tesla_data.reset_index(inplace=True)",
            "execution_count": 11,
            "outputs": []
        },
        {
            "metadata": {},
            "cell_type": "markdown",
            "source": "We can plot the Open price against the Date:"
        },
        {
            "metadata": {},
            "cell_type": "code",
            "source": "tesla_data.plot(x=\"Date\", y=\"Open\")",
            "execution_count": 12,
            "outputs": [
                {
                    "output_type": "execute_result",
                    "execution_count": 12,
                    "data": {
                        "text/plain": "<AxesSubplot:xlabel='Date'>"
                    },
                    "metadata": {}
                },
                {
                    "output_type": "display_data",
                    "data": {
                        "text/plain": "<Figure size 432x288 with 1 Axes>",
                        "image/png": "[encoded data removed]"
                    },
                    "metadata": {
                        "needs_background": "light"
                    }
                }
            ]
        },
        {
            "metadata": {},
            "cell_type": "code",
            "source": "",
            "execution_count": null,
            "outputs": []
        }
    ],
    "metadata": {
        "kernelspec": {
            "name": "python3",
            "display_name": "Python 3.9",
            "language": "python"
        },
        "language_info": {
            "name": "python",
            "version": "3.9.7",
            "mimetype": "text/x-python",
            "codemirror_mode": {
                "name": "ipython",
                "version": 3
            },
            "pygments_lexer": "ipython3",
            "nbconvert_exporter": "python",
            "file_extension": ".py"
        }
    },
    "nbformat": 4,
    "nbformat_minor": 1
}